{
  "nbformat": 4,
  "nbformat_minor": 0,
  "metadata": {
    "colab": {
      "provenance": []
    },
    "kernelspec": {
      "name": "python3",
      "display_name": "Python 3"
    },
    "language_info": {
      "name": "python"
    }
  },
  "cells": [
    {
      "cell_type": "markdown",
      "source": [
        "# SIB BACH 3 AI-HACKER ✈\n",
        "\n",
        "\n",
        "Nama: Ade Nehemia Setiawan\n",
        "\n",
        "Topik: Basic Python\n",
        "\n",
        "🛺\n",
        "       Membuat Objek dari Kelas Animal dengan array, kemudian menambahkan objek ke array. Gunakan operasi Linked List untuk menambahkan objek array yang telah dibuat ke element Linked List."
      ],
      "metadata": {
        "id": "Uv6scyUY7S9x"
      }
    },
    {
      "cell_type": "code",
      "execution_count": null,
      "metadata": {
        "colab": {
          "base_uri": "https://localhost:8080/"
        },
        "id": "vVfk4jkA6FFM",
        "outputId": "3671c94a-3811-4ab9-b7f6-a0dd6082e83d"
      },
      "outputs": [
        {
          "output_type": "stream",
          "name": "stdout",
          "text": [
            "Berapa banyak data yang Anda tambahkan? 6\n",
            "Name: Jerapa\n",
            "Name: Rusa\n",
            "Name: Anjing\n",
            "Name: Burung\n",
            "Name: Gajah\n",
            "Name: Singa\n",
            "Daftar Nama Hewan:\n",
            "Singa, Gajah, Burung, Anjing, Rusa, Jerapa, dll.\n"
          ]
        }
      ],
      "source": [
        "class Animal: \n",
        "    def __init__(self, name) -> None: \n",
        "        self.name = name \n",
        "    def getName(self): \n",
        "      return self.name\n",
        "\n",
        "n = int(input(\"Berapa banyak data yang Anda tambahkan? \"))\n",
        "\n",
        "listAnimal = []\n",
        "\n",
        "for i in range(0, n):\n",
        "  name = str(input(\"Name: \"))\n",
        "  listAnimal.append(Animal(name))\n",
        "\n",
        "print(\"Daftar Nama Hewan:\")\n",
        "\n",
        "class AnimalLinked:\n",
        "    class _Node:\n",
        "      def __init__(self, element, nextNote = None):\n",
        "        self.element = element\n",
        "        self.nextNote = nextNote\n",
        "\n",
        "    def __init__(self):\n",
        "        self._head = None\n",
        "        self._size = 0\n",
        "\n",
        "    def __str__(self) -> str:\n",
        "        result = \"\"\n",
        "        pointer = self._head\n",
        "        while pointer != None:\n",
        "            result = result + str(pointer.element) + \", \"\n",
        "            pointer = pointer.nextNote\n",
        "        return result\n",
        "\n",
        "\n",
        "    def add_first(self, element):\n",
        "        newNode = self._Node(element)\n",
        "        newNode.nextNote = self._head\n",
        "        self._head = newNode\n",
        "        self._size += 1\n",
        "    \n",
        "    def __len__(self):\n",
        "      return self._size\n",
        "\n",
        "def main():\n",
        "\n",
        "    myList = AnimalLinked()\n",
        "\n",
        "    for j in range(0, n):\n",
        "      myList.add_first(listAnimal[j].getName())\n",
        "\n",
        "    print(str(myList) + \"dll.\")\n",
        "\n",
        "main()"
      ]
    }
  ]
}